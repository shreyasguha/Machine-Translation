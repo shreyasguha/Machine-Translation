{
  "nbformat": 4,
  "nbformat_minor": 0,
  "metadata": {
    "colab": {
      "provenance": [],
      "authorship_tag": "ABX9TyPcDwZmWG4eHG23Bv21wNWY",
      "include_colab_link": true
    },
    "kernelspec": {
      "name": "python3",
      "display_name": "Python 3"
    },
    "language_info": {
      "name": "python"
    }
  },
  "cells": [
    {
      "cell_type": "markdown",
      "metadata": {
        "id": "view-in-github",
        "colab_type": "text"
      },
      "source": [
        "<a href=\"https://colab.research.google.com/github/shreyasguha/Machine-Translation/blob/main/Copy_of_DataPrep_FinetuneLLM_classification.ipynb\" target=\"_parent\"><img src=\"https://colab.research.google.com/assets/colab-badge.svg\" alt=\"Open In Colab\"/></a>"
      ]
    },
    {
      "cell_type": "markdown",
      "source": [
        "#For pre-processing the data given by Draco into something we can use, consisting of the appropriate labels\n"
      ],
      "metadata": {
        "id": "x7mO9HxJCpzk"
      }
    },
    {
      "cell_type": "markdown",
      "source": [
        "rd is reference dataset\n",
        "od is our dataset"
      ],
      "metadata": {
        "id": "chofPjSCI5BM"
      }
    },
    {
      "cell_type": "markdown",
      "source": [
        "OUR OBJECTIVE IS TO TAKE THE ORIGINAL DATA i.e \"train.csv\" AND TURN IT INTO THE FORMAT OF \"imdb-truncated\" DATA WHICH CONTAINS 1 COLUMN WITH LABELS AND 1 COLUMN WITH TEXT"
      ],
      "metadata": {
        "id": "Oj5FpIPEMzGn"
      }
    },
    {
      "cell_type": "code",
      "source": [
        "!pip install datasets"
      ],
      "metadata": {
        "id": "df-CjQtdIdPW"
      },
      "execution_count": null,
      "outputs": []
    },
    {
      "cell_type": "code",
      "execution_count": null,
      "metadata": {
        "id": "sHZu2DCdCiDs"
      },
      "outputs": [],
      "source": [
        "import numpy as np\n",
        "import pandas as pd\n",
        "from datasets import load_dataset\n",
        "import pandas as pd\n",
        "\n",
        "from google.colab import drive\n",
        "drive.mount('/content/drive')"
      ]
    },
    {
      "cell_type": "code",
      "source": [
        "ori_data = pd.read_csv('/content/drive/MyDrive/AI/Dataset/Draco/train.csv')"
      ],
      "metadata": {
        "id": "yrSGc8EhIJ9F"
      },
      "execution_count": 3,
      "outputs": []
    },
    {
      "cell_type": "code",
      "source": [
        "ref_data = load_dataset(\"shawhin/imdb-truncated\")\n",
        "ref_data = pd.DataFrame(ref_data[\"train\"])"
      ],
      "metadata": {
        "id": "V0GR3kevIQYj"
      },
      "execution_count": null,
      "outputs": []
    },
    {
      "cell_type": "code",
      "source": [
        "final_data = pd.DataFrame(columns=[\"label\", \"text\"])"
      ],
      "metadata": {
        "id": "pk7Z9JVxJ6AO"
      },
      "execution_count": 9,
      "outputs": []
    },
    {
      "cell_type": "code",
      "source": [
        "for j in range(5):\n",
        "  for i in range (1700):\n",
        "    final_data = final_data.append(pd.DataFrame({\n",
        "      'label': [j],\n",
        "      'text': [ori_data.loc[i][\"ben\"]]\n",
        "    }), ignore_index = True)\n",
        "\n"
      ],
      "metadata": {
        "id": "W3ThJAvb2Lma"
      },
      "execution_count": null,
      "outputs": []
    },
    {
      "cell_type": "code",
      "source": [
        "final_data"
      ],
      "metadata": {
        "id": "e4Pk5FP7NYBY"
      },
      "execution_count": null,
      "outputs": []
    },
    {
      "cell_type": "code",
      "source": [
        "final_data_classification = pd.DataFrame(columns=[\"label\", \"text\"])\n",
        "final_data_classification = final_data"
      ],
      "metadata": {
        "id": "EZYAEXzTNbDj"
      },
      "execution_count": 14,
      "outputs": []
    },
    {
      "cell_type": "code",
      "source": [
        "final_data_classification"
      ],
      "metadata": {
        "id": "AGus_hF2Nprp"
      },
      "execution_count": null,
      "outputs": []
    },
    {
      "cell_type": "code",
      "source": [
        "# prompt: save final_data_classification in my drive as a csv file of the same name\n",
        "\n",
        "final_data_classification.to_csv('/content/drive/MyDrive/AI/final_data_classification.csv', index=False)\n"
      ],
      "metadata": {
        "id": "qnl6lukhNsWj"
      },
      "execution_count": null,
      "outputs": []
    }
  ]
}